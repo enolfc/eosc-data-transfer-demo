{
 "cells": [
  {
   "cell_type": "markdown",
   "id": "22e282d4-411f-44b5-b1f5-ecd09ce9d0de",
   "metadata": {},
   "source": [
    "# A simple notebook to read EOSC data"
   ]
  },
  {
   "cell_type": "code",
   "execution_count": null,
   "id": "c9149b7b-38ea-4aa0-b2b0-76aefd2d1a42",
   "metadata": {},
   "outputs": [],
   "source": [
    "import numpy as np\n",
    "import xarray as xr\n",
    "import cartopy.crs as ccrs\n",
    "import matplotlib.pyplot as plt\n",
    "import cmcrameri.cm as cmc\n",
    "import pandas as pd"
   ]
  },
  {
   "cell_type": "markdown",
   "id": "a71f316b-2411-4d87-b91e-da9db2495bb2",
   "metadata": {},
   "source": [
    "## Get credentials for S3\n",
    "\n",
    "We will use the EGI Check-in access token available in the Notebooks environment to get working credentials for the EOSC data transfer"
   ]
  },
  {
   "cell_type": "code",
   "execution_count": null,
   "id": "2dd04111-10fb-44fb-a511-879f289dc46a",
   "metadata": {},
   "outputs": [],
   "source": [
    "auth_url = \"https://identity.cloud.muni.cz/v3\"\n",
    "project_id = \"a93e555f89154baf9f3fc9bd0899466b\"\n",
    "\n",
    "from keystoneauth1.identity import v3\n",
    "from keystoneauth1 import session\n",
    "from keystoneclient.v3 import client\n",
    "\n",
    "# read the Check-in access token\n",
    "with open(\"/var/run/secrets/egi.eu/access_token\") as f:\n",
    "    access_token = f.read().strip()\n",
    "\n",
    "auth = v3.OidcAccessToken(auth_url=auth_url,\n",
    "                          identity_provider=\"egi.eu\",\n",
    "                          protocol=\"openid\",\n",
    "                          access_token=access_token,\n",
    "                          project_id = project_id)\n",
    "sess = session.Session(auth=auth)\n",
    "ks = client.Client(session=sess)\n",
    "user_id = auth.get_user_id(sess)\n",
    "\n",
    "\n",
    "for cred in ks.ec2.list(user_id):\n",
    "    if cred.tenant_id == project_id:\n",
    "        break\n",
    "else:\n",
    "    # need to create new credentials\n",
    "    print(\"No creds\")"
   ]
  },
  {
   "cell_type": "markdown",
   "id": "d3258674-b2ce-4c51-b716-0a2e3d20eb0e",
   "metadata": {},
   "source": [
    "## Read data from S3"
   ]
  },
  {
   "cell_type": "code",
   "execution_count": null,
   "id": "de13a23b-c591-49a5-8351-23df447bcaa7",
   "metadata": {},
   "outputs": [],
   "source": [
    "import xarray as xr\n",
    "import s3fs\n",
    "\n",
    "fs = s3fs.S3FileSystem(anon=False,\n",
    "                       key=cred.access,\n",
    "                       secret=cred.secret,\n",
    "                       client_kwargs={\n",
    "                           'endpoint_url': 'https://object-store.cloud.muni.cz'\n",
    "                       })\n",
    "fs.ls('eosc-data-transfer')"
   ]
  },
  {
   "cell_type": "code",
   "execution_count": null,
   "id": "572e85b5-3edb-46a3-8e38-691adbf8b40f",
   "metadata": {},
   "outputs": [],
   "source": [
    "s3path = 's3://eosc-data-transfer/CAMS-PM2_5-20211222.netcdf'\n",
    "\n",
    "\n",
    "ds = xr.open_dataset(fs.open(s3path))\n",
    "\n",
    "ds"
   ]
  },
  {
   "cell_type": "code",
   "execution_count": null,
   "id": "01ef47cf-1c04-41be-b6ee-db0f55a9f4fc",
   "metadata": {},
   "outputs": [],
   "source": [
    "ds.keys()\n",
    "\n",
    "print(ds.longitude)\n",
    "\n",
    "ds.coords['longitude'] = (ds['longitude'] + 180) % 360 - 180\n",
    "\n"
   ]
  },
  {
   "cell_type": "code",
   "execution_count": null,
   "id": "1c61d067-f83f-43d4-be41-aeb50bdb1f05",
   "metadata": {},
   "outputs": [],
   "source": [
    "print(ds.longitude)"
   ]
  },
  {
   "cell_type": "code",
   "execution_count": null,
   "id": "d0c68369-c985-4dfe-9cf2-ef8cf689a365",
   "metadata": {},
   "outputs": [],
   "source": [
    "\n",
    "\n",
    "\n",
    "\n",
    "\n",
    "import numpy as np"
   ]
  },
  {
   "cell_type": "code",
   "execution_count": null,
   "id": "af117fa6-77b8-454e-b751-9c30894455d4",
   "metadata": {},
   "outputs": [],
   "source": [
    "import cartopy.crs as ccrs\n",
    "import matplotlib.pyplot as plt\n",
    "\n",
    "\n",
    "fig = plt.figure(1, figsize=[15,10])\n",
    "\n",
    "# We're using cartopy to project our data.\n",
    "# (see documentation on cartopy)\n",
    "ax = plt.subplot(1, 1, 1, projection=ccrs.Mercator())\n",
    "ax.coastlines(resolution='10m')\n",
    "\n",
    "# We need to project our data to the new projection and for this we use `transform`.\n",
    "# we set the original data projection in transform (here PlateCarree)\n",
    "ds.sel(time=(np.timedelta64(2,'D') + np.timedelta64(12,'h')))['pm2p5_conc'].plot(ax=ax,\n",
    "                                                                                 transform=ccrs.PlateCarree(),\n",
    "                                                                                 vmin = 0, vmax = 35,\n",
    "                                                                                 cmap=cmc.roma_r)\n",
    "# One way to customize your title\n",
    "plt.title(\"Copernicus Atmosphere Monitoring Service PM2.5, 2 day forecasts\\n 24th December 2021 at 12:00 UTC\", fontsize=18)\n",
    "plt.savefig(\"CAMS-PM2_5-fc-20211224.png\")"
   ]
  },
  {
   "cell_type": "code",
   "execution_count": null,
   "id": "cdb8529e-e923-4532-a4d4-d2f48e3a6471",
   "metadata": {},
   "outputs": [],
   "source": [
    "list_times = np.datetime64('2021-12-22') + ds.time.sel(time=slice(np.timedelta64(0),np.timedelta64(1,'D')))\n",
    "print(pd.to_datetime(list_times).strftime(\"%d %b %H:%S UTC\"))"
   ]
  },
  {
   "cell_type": "code",
   "execution_count": null,
   "id": "eaf61b0c-f07a-40c8-aa38-5c324535911d",
   "metadata": {},
   "outputs": [],
   "source": [
    "fig = plt.figure(1, figsize=[10,10])\n",
    "\n",
    "# We're using cartopy to project our data.\n",
    "# (see documentation on cartopy)\n",
    "proj_plot = ccrs.Mercator()\n",
    "\n",
    "# We need to project our data to the new projection and for this we use `transform`.\n",
    "# we set the original data projection in transform (here PlateCarree)\n",
    "p = ds.sel(time=slice(np.timedelta64(1,'h'),np.timedelta64(1,'D')))['pm2p5_conc'].plot(transform=ccrs.PlateCarree(),\n",
    "                                                                                       vmin = 0, vmax = 35,\n",
    "                                                                                       subplot_kws={\"projection\": proj_plot},\n",
    "                                                                                       col='time', col_wrap=4,\n",
    "                                                                                       robust=True,\n",
    "                                                                                      aspect=ds.dims[\"longitude\"] / ds.dims[\"latitude\"],  # for a sensible figsize\n",
    "                                                                                       cmap=cmc.roma_r)\n",
    "# We have to set the map's options on our axes\n",
    "for ax,i in zip(p.axes.flat,  (np.datetime64('2021-12-22') + ds.time.sel(time=slice(np.timedelta64(0),np.timedelta64(1,'D')))).values):\n",
    "      ax.coastlines('10m')\n",
    "      ax.set_title(\"CAMS PM2.5 \" + pd.to_datetime(i).strftime(\"%d %b %H:%S UTC\"), fontsize=12)\n",
    "# Save your figure\n",
    "plt.savefig(\"CAMS-PM2_5-fc-multi.png\")"
   ]
  }
 ],
 "metadata": {
  "kernelspec": {
   "display_name": "Python 3 (ipykernel)",
   "language": "python",
   "name": "python3"
  },
  "language_info": {
   "codemirror_mode": {
    "name": "ipython",
    "version": 3
   },
   "file_extension": ".py",
   "mimetype": "text/x-python",
   "name": "python",
   "nbconvert_exporter": "python",
   "pygments_lexer": "ipython3",
   "version": "3.10.6"
  }
 },
 "nbformat": 4,
 "nbformat_minor": 5
}
